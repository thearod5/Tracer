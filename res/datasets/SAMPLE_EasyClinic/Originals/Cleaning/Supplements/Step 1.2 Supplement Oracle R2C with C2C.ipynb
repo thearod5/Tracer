{
 "cells": [
  {
   "cell_type": "code",
   "execution_count": 1,
   "metadata": {},
   "outputs": [],
   "source": [
    "import pandas as pd\n",
    "import numpy as np\n",
    "import sys"
   ]
  },
  {
   "cell_type": "markdown",
   "metadata": {},
   "source": [
    "### Import Oracle Creator"
   ]
  },
  {
   "cell_type": "code",
   "execution_count": 2,
   "metadata": {},
   "outputs": [],
   "source": [
    "sys.path.append(\"../../../../Tracer/src\")\n",
    "from DataHandling.TraceCreator import create_trace_matrix_from_trace_list\n",
    "\n",
    "def create_trace_list(path_to_oracle):\n",
    "    oracle = open(path_to_oracle).read().split(\"\\n\")\n",
    "    trace_list = []\n",
    "    for trace_item in oracle:\n",
    "        if len(trace_item) > 0:\n",
    "            source, targets = trace_item.split(\":\")\n",
    "            for target in targets.split(\" \"):\n",
    "                if len(target) != 0:\n",
    "                    trace_list.append(\" \".join([source, target]))\n",
    "                else:\n",
    "                    trace_list.append(\" \".join([source, \"\"]))\n",
    "    return create_trace_matrix_from_trace_list(trace_list)"
   ]
  },
  {
   "cell_type": "markdown",
   "metadata": {},
   "source": [
    "# Original Oracles"
   ]
  },
  {
   "cell_type": "code",
   "execution_count": 3,
   "metadata": {},
   "outputs": [],
   "source": [
    "r2d = pd.read_csv(\"../../Oracles/DataFrames/Level_1_to_Level_2.csv\").set_index(\"id\")\n",
    "d2c = pd.read_csv(\"../../Oracles/DataFrames/Level_2_to_Level_3.csv\").set_index(\"id\")\n",
    "r2c = pd.read_csv(\"../../Oracles/DataFrames/Level_1_to_Level_3.csv\").set_index(\"id\")"
   ]
  },
  {
   "cell_type": "markdown",
   "metadata": {},
   "source": [
    "### Import New Oracle"
   ]
  },
  {
   "cell_type": "code",
   "execution_count": 4,
   "metadata": {},
   "outputs": [
    {
     "data": {
      "text/html": [
       "<div>\n",
       "<style scoped>\n",
       "    .dataframe tbody tr th:only-of-type {\n",
       "        vertical-align: middle;\n",
       "    }\n",
       "\n",
       "    .dataframe tbody tr th {\n",
       "        vertical-align: top;\n",
       "    }\n",
       "\n",
       "    .dataframe thead th {\n",
       "        text-align: right;\n",
       "    }\n",
       "</style>\n",
       "<table border=\"1\" class=\"dataframe\">\n",
       "  <thead>\n",
       "    <tr style=\"text-align: right;\">\n",
       "      <th></th>\n",
       "      <th>151.txt</th>\n",
       "      <th>134.txt</th>\n",
       "      <th>124.txt</th>\n",
       "      <th>127.txt</th>\n",
       "      <th>148.txt</th>\n",
       "      <th>137.txt</th>\n",
       "      <th>114.txt</th>\n",
       "      <th>147.txt</th>\n",
       "      <th>119.txt</th>\n",
       "      <th>159.txt</th>\n",
       "      <th>...</th>\n",
       "      <th>122.txt</th>\n",
       "      <th>117.txt</th>\n",
       "      <th>123.txt</th>\n",
       "      <th>153.txt</th>\n",
       "      <th>139.txt</th>\n",
       "      <th>142.txt</th>\n",
       "      <th>120.txt</th>\n",
       "      <th>156.txt</th>\n",
       "      <th>141.txt</th>\n",
       "      <th>116.txt</th>\n",
       "    </tr>\n",
       "    <tr>\n",
       "      <th>id</th>\n",
       "      <th></th>\n",
       "      <th></th>\n",
       "      <th></th>\n",
       "      <th></th>\n",
       "      <th></th>\n",
       "      <th></th>\n",
       "      <th></th>\n",
       "      <th></th>\n",
       "      <th></th>\n",
       "      <th></th>\n",
       "      <th></th>\n",
       "      <th></th>\n",
       "      <th></th>\n",
       "      <th></th>\n",
       "      <th></th>\n",
       "      <th></th>\n",
       "      <th></th>\n",
       "      <th></th>\n",
       "      <th></th>\n",
       "      <th></th>\n",
       "      <th></th>\n",
       "    </tr>\n",
       "  </thead>\n",
       "  <tbody>\n",
       "    <tr>\n",
       "      <th>149.txt</th>\n",
       "      <td>0.0</td>\n",
       "      <td>0.0</td>\n",
       "      <td>0.0</td>\n",
       "      <td>0.0</td>\n",
       "      <td>0.0</td>\n",
       "      <td>0.0</td>\n",
       "      <td>0.0</td>\n",
       "      <td>0.0</td>\n",
       "      <td>0.0</td>\n",
       "      <td>0.0</td>\n",
       "      <td>...</td>\n",
       "      <td>0.0</td>\n",
       "      <td>0.0</td>\n",
       "      <td>0.0</td>\n",
       "      <td>0.0</td>\n",
       "      <td>0.0</td>\n",
       "      <td>0.0</td>\n",
       "      <td>0.0</td>\n",
       "      <td>0.0</td>\n",
       "      <td>0.0</td>\n",
       "      <td>0.0</td>\n",
       "    </tr>\n",
       "    <tr>\n",
       "      <th>151.txt</th>\n",
       "      <td>0.0</td>\n",
       "      <td>0.0</td>\n",
       "      <td>0.0</td>\n",
       "      <td>0.0</td>\n",
       "      <td>0.0</td>\n",
       "      <td>0.0</td>\n",
       "      <td>0.0</td>\n",
       "      <td>0.0</td>\n",
       "      <td>0.0</td>\n",
       "      <td>0.0</td>\n",
       "      <td>...</td>\n",
       "      <td>0.0</td>\n",
       "      <td>0.0</td>\n",
       "      <td>0.0</td>\n",
       "      <td>1.0</td>\n",
       "      <td>0.0</td>\n",
       "      <td>0.0</td>\n",
       "      <td>0.0</td>\n",
       "      <td>0.0</td>\n",
       "      <td>0.0</td>\n",
       "      <td>0.0</td>\n",
       "    </tr>\n",
       "    <tr>\n",
       "      <th>157.txt</th>\n",
       "      <td>0.0</td>\n",
       "      <td>0.0</td>\n",
       "      <td>0.0</td>\n",
       "      <td>0.0</td>\n",
       "      <td>0.0</td>\n",
       "      <td>0.0</td>\n",
       "      <td>0.0</td>\n",
       "      <td>0.0</td>\n",
       "      <td>0.0</td>\n",
       "      <td>0.0</td>\n",
       "      <td>...</td>\n",
       "      <td>0.0</td>\n",
       "      <td>0.0</td>\n",
       "      <td>0.0</td>\n",
       "      <td>0.0</td>\n",
       "      <td>0.0</td>\n",
       "      <td>0.0</td>\n",
       "      <td>0.0</td>\n",
       "      <td>1.0</td>\n",
       "      <td>0.0</td>\n",
       "      <td>0.0</td>\n",
       "    </tr>\n",
       "  </tbody>\n",
       "</table>\n",
       "<p>3 rows × 35 columns</p>\n",
       "</div>"
      ],
      "text/plain": [
       "         151.txt  134.txt  124.txt  127.txt  148.txt  137.txt  114.txt  \\\n",
       "id                                                                       \n",
       "149.txt      0.0      0.0      0.0      0.0      0.0      0.0      0.0   \n",
       "151.txt      0.0      0.0      0.0      0.0      0.0      0.0      0.0   \n",
       "157.txt      0.0      0.0      0.0      0.0      0.0      0.0      0.0   \n",
       "\n",
       "         147.txt  119.txt  159.txt  ...  122.txt  117.txt  123.txt  153.txt  \\\n",
       "id                                  ...                                       \n",
       "149.txt      0.0      0.0      0.0  ...      0.0      0.0      0.0      0.0   \n",
       "151.txt      0.0      0.0      0.0  ...      0.0      0.0      0.0      1.0   \n",
       "157.txt      0.0      0.0      0.0  ...      0.0      0.0      0.0      0.0   \n",
       "\n",
       "         139.txt  142.txt  120.txt  156.txt  141.txt  116.txt  \n",
       "id                                                             \n",
       "149.txt      0.0      0.0      0.0      0.0      0.0      0.0  \n",
       "151.txt      0.0      0.0      0.0      0.0      0.0      0.0  \n",
       "157.txt      0.0      0.0      0.0      1.0      0.0      0.0  \n",
       "\n",
       "[3 rows x 35 columns]"
      ]
     },
     "execution_count": 4,
     "metadata": {},
     "output_type": "execute_result"
    }
   ],
   "source": [
    "c2c = create_trace_list(\"../Originals/TracedMatrices/CC_CC.txt\")\n",
    "c2c.head(3)"
   ]
  },
  {
   "cell_type": "markdown",
   "metadata": {},
   "source": [
    "### R 2 D"
   ]
  },
  {
   "cell_type": "code",
   "execution_count": 5,
   "metadata": {},
   "outputs": [],
   "source": [
    "def get_similar_classes(c_id):\n",
    "    similar_classes = []\n",
    "    if c_id in c2c.index:\n",
    "        for c2_id in c2c.columns:\n",
    "            if c2c.loc[c_id][c2_id] == 1:\n",
    "                similar_classes.append(c2_id)\n",
    "    return similar_classes"
   ]
  },
  {
   "cell_type": "code",
   "execution_count": 6,
   "metadata": {},
   "outputs": [
    {
     "name": "stdout",
     "output_type": "stream",
     "text": [
      "Number of Missing Traces:  118\n",
      "NUmber of confirmed traces:  85\n",
      "Number of undefined classes:  53\n"
     ]
    }
   ],
   "source": [
    "missing_traces = []\n",
    "n_missing_traces = 0\n",
    "n_confirmed_traces = 0\n",
    "n_undefined_classes = 0\n",
    "for r_id in r2c.index:\n",
    "    for c_id in r2c.columns:\n",
    "        if r2c.loc[r_id][c_id] == 1:\n",
    "            similar_classes = get_similar_classes(c_id)\n",
    "            for s_class in similar_classes:\n",
    "                if s_class not in r2c.columns:\n",
    "                    n_undefined_classes = n_undefined_classes + 1\n",
    "                elif s_class in r2c.columns and r2c.loc[r_id][s_class] == 0:\n",
    "                    n_missing_traces = n_missing_traces + 1\n",
    "                    missing_traces.append((r_id, s_class))\n",
    "                elif s_class in r2c.columns and r2c.loc[r_id][s_class] == 1:\n",
    "                    n_confirmed_traces = n_confirmed_traces + 1\n",
    "print(\"Number of Missing Traces: \", len(missing_traces))\n",
    "print(\"NUmber of confirmed traces: \", n_confirmed_traces)\n",
    "print(\"Number of undefined classes: \", n_undefined_classes)"
   ]
  },
  {
   "cell_type": "markdown",
   "metadata": {},
   "source": [
    "# Add missing traces"
   ]
  },
  {
   "cell_type": "code",
   "execution_count": 7,
   "metadata": {},
   "outputs": [],
   "source": [
    "for mt in missing_traces:\n",
    "    r2c.loc[mt[0]][mt[1]] = 1"
   ]
  },
  {
   "cell_type": "code",
   "execution_count": 8,
   "metadata": {},
   "outputs": [
    {
     "name": "stdout",
     "output_type": "stream",
     "text": [
      "Done!\n"
     ]
    }
   ],
   "source": [
    "r2c.to_csv(\"../../Oracles/DataFrames/Level_1_to_Level_3.csv\")\n",
    "r2c.to_csv(\"../../Oracles/Relations.csv\")\n",
    "print(\"Done!\")"
   ]
  },
  {
   "cell_type": "code",
   "execution_count": null,
   "metadata": {},
   "outputs": [],
   "source": []
  }
 ],
 "metadata": {
  "kernelspec": {
   "display_name": "Python 3",
   "language": "python",
   "name": "python3"
  },
  "language_info": {
   "codemirror_mode": {
    "name": "ipython",
    "version": 3
   },
   "file_extension": ".py",
   "mimetype": "text/x-python",
   "name": "python",
   "nbconvert_exporter": "python",
   "pygments_lexer": "ipython3",
   "version": "3.7.3"
  }
 },
 "nbformat": 4,
 "nbformat_minor": 2
}
