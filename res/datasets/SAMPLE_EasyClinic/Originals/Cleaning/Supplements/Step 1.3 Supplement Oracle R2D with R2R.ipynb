{
 "cells": [
  {
   "cell_type": "code",
   "execution_count": 1,
   "metadata": {},
   "outputs": [],
   "source": [
    "import pandas as pd\n",
    "import numpy as np\n",
    "import sys"
   ]
  },
  {
   "cell_type": "markdown",
   "metadata": {},
   "source": [
    "### Import Oracle Creator"
   ]
  },
  {
   "cell_type": "code",
   "execution_count": 2,
   "metadata": {},
   "outputs": [],
   "source": [
    "sys.path.append(\"../../../../Tracer/src\")\n",
    "from DataHandling.TraceCreator import create_trace_matrix_from_trace_list\n",
    "\n",
    "def create_trace_list(path_to_oracle):\n",
    "    oracle = open(path_to_oracle).read().split(\"\\n\")\n",
    "    trace_list = []\n",
    "    for trace_item in oracle:\n",
    "        if len(trace_item) > 0:\n",
    "            source, targets = trace_item.split(\":\")\n",
    "            for target in targets.split(\" \"):\n",
    "                if len(target) != 0:\n",
    "                    trace_list.append(\" \".join([source, target]))\n",
    "                else:\n",
    "                    trace_list.append(\" \".join([source, \"\"]))\n",
    "    return create_trace_matrix_from_trace_list(trace_list)"
   ]
  },
  {
   "cell_type": "markdown",
   "metadata": {},
   "source": [
    "# Original Oracles"
   ]
  },
  {
   "cell_type": "code",
   "execution_count": 3,
   "metadata": {},
   "outputs": [],
   "source": [
    "r2d = pd.read_csv(\"../../Oracles/DataFrames/Level_1_to_Level_2.csv\").set_index(\"id\")"
   ]
  },
  {
   "cell_type": "markdown",
   "metadata": {},
   "source": [
    "### Import New Oracle"
   ]
  },
  {
   "cell_type": "code",
   "execution_count": 4,
   "metadata": {},
   "outputs": [
    {
     "data": {
      "text/html": [
       "<div>\n",
       "<style scoped>\n",
       "    .dataframe tbody tr th:only-of-type {\n",
       "        vertical-align: middle;\n",
       "    }\n",
       "\n",
       "    .dataframe tbody tr th {\n",
       "        vertical-align: top;\n",
       "    }\n",
       "\n",
       "    .dataframe thead th {\n",
       "        text-align: right;\n",
       "    }\n",
       "</style>\n",
       "<table border=\"1\" class=\"dataframe\">\n",
       "  <thead>\n",
       "    <tr style=\"text-align: right;\">\n",
       "      <th></th>\n",
       "      <th>17.txt</th>\n",
       "      <th>25.txt</th>\n",
       "      <th>29.txt</th>\n",
       "      <th>19.txt</th>\n",
       "      <th>18.txt</th>\n",
       "      <th>3.txt</th>\n",
       "      <th>28.txt</th>\n",
       "      <th>9.txt</th>\n",
       "      <th>2.txt</th>\n",
       "      <th>8.txt</th>\n",
       "      <th>...</th>\n",
       "      <th>1.txt</th>\n",
       "      <th>6.txt</th>\n",
       "      <th>27.txt</th>\n",
       "      <th>16.txt</th>\n",
       "      <th>12.txt</th>\n",
       "      <th>20.txt</th>\n",
       "      <th>11.txt</th>\n",
       "      <th>23.txt</th>\n",
       "      <th>4.txt</th>\n",
       "      <th>30.txt</th>\n",
       "    </tr>\n",
       "    <tr>\n",
       "      <th>id</th>\n",
       "      <th></th>\n",
       "      <th></th>\n",
       "      <th></th>\n",
       "      <th></th>\n",
       "      <th></th>\n",
       "      <th></th>\n",
       "      <th></th>\n",
       "      <th></th>\n",
       "      <th></th>\n",
       "      <th></th>\n",
       "      <th></th>\n",
       "      <th></th>\n",
       "      <th></th>\n",
       "      <th></th>\n",
       "      <th></th>\n",
       "      <th></th>\n",
       "      <th></th>\n",
       "      <th></th>\n",
       "      <th></th>\n",
       "      <th></th>\n",
       "      <th></th>\n",
       "    </tr>\n",
       "  </thead>\n",
       "  <tbody>\n",
       "    <tr>\n",
       "      <th>17.txt</th>\n",
       "      <td>0.0</td>\n",
       "      <td>0.0</td>\n",
       "      <td>0.0</td>\n",
       "      <td>0.0</td>\n",
       "      <td>1.0</td>\n",
       "      <td>1.0</td>\n",
       "      <td>0.0</td>\n",
       "      <td>0.0</td>\n",
       "      <td>1.0</td>\n",
       "      <td>0.0</td>\n",
       "      <td>...</td>\n",
       "      <td>1.0</td>\n",
       "      <td>1.0</td>\n",
       "      <td>0.0</td>\n",
       "      <td>0.0</td>\n",
       "      <td>0.0</td>\n",
       "      <td>0.0</td>\n",
       "      <td>0.0</td>\n",
       "      <td>0.0</td>\n",
       "      <td>1.0</td>\n",
       "      <td>0.0</td>\n",
       "    </tr>\n",
       "    <tr>\n",
       "      <th>25.txt</th>\n",
       "      <td>0.0</td>\n",
       "      <td>0.0</td>\n",
       "      <td>0.0</td>\n",
       "      <td>1.0</td>\n",
       "      <td>0.0</td>\n",
       "      <td>0.0</td>\n",
       "      <td>0.0</td>\n",
       "      <td>0.0</td>\n",
       "      <td>0.0</td>\n",
       "      <td>0.0</td>\n",
       "      <td>...</td>\n",
       "      <td>0.0</td>\n",
       "      <td>0.0</td>\n",
       "      <td>0.0</td>\n",
       "      <td>0.0</td>\n",
       "      <td>0.0</td>\n",
       "      <td>1.0</td>\n",
       "      <td>0.0</td>\n",
       "      <td>0.0</td>\n",
       "      <td>0.0</td>\n",
       "      <td>0.0</td>\n",
       "    </tr>\n",
       "    <tr>\n",
       "      <th>19.txt</th>\n",
       "      <td>0.0</td>\n",
       "      <td>1.0</td>\n",
       "      <td>0.0</td>\n",
       "      <td>0.0</td>\n",
       "      <td>0.0</td>\n",
       "      <td>0.0</td>\n",
       "      <td>0.0</td>\n",
       "      <td>0.0</td>\n",
       "      <td>0.0</td>\n",
       "      <td>0.0</td>\n",
       "      <td>...</td>\n",
       "      <td>0.0</td>\n",
       "      <td>0.0</td>\n",
       "      <td>0.0</td>\n",
       "      <td>0.0</td>\n",
       "      <td>0.0</td>\n",
       "      <td>1.0</td>\n",
       "      <td>0.0</td>\n",
       "      <td>0.0</td>\n",
       "      <td>0.0</td>\n",
       "      <td>0.0</td>\n",
       "    </tr>\n",
       "  </tbody>\n",
       "</table>\n",
       "<p>3 rows × 29 columns</p>\n",
       "</div>"
      ],
      "text/plain": [
       "        17.txt  25.txt  29.txt  19.txt  18.txt  3.txt  28.txt  9.txt  2.txt  \\\n",
       "id                                                                            \n",
       "17.txt     0.0     0.0     0.0     0.0     1.0    1.0     0.0    0.0    1.0   \n",
       "25.txt     0.0     0.0     0.0     1.0     0.0    0.0     0.0    0.0    0.0   \n",
       "19.txt     0.0     1.0     0.0     0.0     0.0    0.0     0.0    0.0    0.0   \n",
       "\n",
       "        8.txt  ...  1.txt  6.txt  27.txt  16.txt  12.txt  20.txt  11.txt  \\\n",
       "id             ...                                                         \n",
       "17.txt    0.0  ...    1.0    1.0     0.0     0.0     0.0     0.0     0.0   \n",
       "25.txt    0.0  ...    0.0    0.0     0.0     0.0     0.0     1.0     0.0   \n",
       "19.txt    0.0  ...    0.0    0.0     0.0     0.0     0.0     1.0     0.0   \n",
       "\n",
       "        23.txt  4.txt  30.txt  \n",
       "id                             \n",
       "17.txt     0.0    1.0     0.0  \n",
       "25.txt     0.0    0.0     0.0  \n",
       "19.txt     0.0    0.0     0.0  \n",
       "\n",
       "[3 rows x 29 columns]"
      ]
     },
     "execution_count": 4,
     "metadata": {},
     "output_type": "execute_result"
    }
   ],
   "source": [
    "r2r = create_trace_list(\"../Originals/TracedMatrices/UC_UC.txt\")\n",
    "r2r.head(3)"
   ]
  },
  {
   "cell_type": "markdown",
   "metadata": {},
   "source": [
    "### R 2 D"
   ]
  },
  {
   "cell_type": "code",
   "execution_count": 5,
   "metadata": {},
   "outputs": [],
   "source": [
    "def get_similar_requirements(r_id):\n",
    "    similar_requirements = []\n",
    "    if r_id in r2r.index:\n",
    "        for r2_id in r2r.columns:\n",
    "            if r2r.loc[r_id][r2_id] == 1:\n",
    "                similar_requirements.append(r2_id)\n",
    "    return similar_requirements"
   ]
  },
  {
   "cell_type": "code",
   "execution_count": 14,
   "metadata": {},
   "outputs": [
    {
     "name": "stdout",
     "output_type": "stream",
     "text": [
      "Number of Missing Traces:  0\n",
      "NUmber of confirmed traces:  806\n",
      "Number of undefined classes:  0\n"
     ]
    }
   ],
   "source": [
    "missing_traces = []\n",
    "n_missing_traces = 0\n",
    "n_confirmed_traces = 0\n",
    "n_undefined_classes = 0\n",
    "for r_id in r2d.index:\n",
    "    for d_id in r2d.columns:\n",
    "        if r2d.loc[r_id][d_id] == 1: # for each pair of similar requirements\n",
    "            similar_requirements = get_similar_requirements(r_id)\n",
    "            for s_req in similar_requirements:\n",
    "                if s_req not in r2d.index:\n",
    "                    n_undefined_classes = n_undefined_classes + 1\n",
    "                elif s_req in r2d.index and r2d.loc[s_req][d_id] == 0:\n",
    "                    n_missing_traces = n_missing_traces + 1\n",
    "                    missing_traces.append((s_req, d_id))\n",
    "                elif s_req in r2d.index and r2d.loc[s_req][d_id] == 1:\n",
    "                    n_confirmed_traces = n_confirmed_traces + 1\n",
    "print(\"Number of Missing Traces: \", len(missing_traces))\n",
    "print(\"NUmber of confirmed traces: \", n_confirmed_traces)\n",
    "print(\"Number of undefined classes: \", n_undefined_classes)"
   ]
  },
  {
   "cell_type": "markdown",
   "metadata": {},
   "source": [
    "# Add missing traces"
   ]
  },
  {
   "cell_type": "code",
   "execution_count": 15,
   "metadata": {},
   "outputs": [],
   "source": [
    "for mt in missing_traces:\n",
    "    r2d.loc[mt[0]][mt[1]] = 1"
   ]
  },
  {
   "cell_type": "code",
   "execution_count": 16,
   "metadata": {},
   "outputs": [
    {
     "name": "stdout",
     "output_type": "stream",
     "text": [
      "Done!\n"
     ]
    }
   ],
   "source": [
    "r2d.to_csv(\"../../Oracles/DataFrames/Level_1_to_Level_2.csv\")\n",
    "#r2c.to_csv(\"../../Oracles/Relations.csv\")\n",
    "print(\"Done!\")"
   ]
  },
  {
   "cell_type": "code",
   "execution_count": null,
   "metadata": {},
   "outputs": [],
   "source": []
  }
 ],
 "metadata": {
  "kernelspec": {
   "display_name": "Python 3",
   "language": "python",
   "name": "python3"
  },
  "language_info": {
   "codemirror_mode": {
    "name": "ipython",
    "version": 3
   },
   "file_extension": ".py",
   "mimetype": "text/x-python",
   "name": "python",
   "nbconvert_exporter": "python",
   "pygments_lexer": "ipython3",
   "version": "3.7.3"
  }
 },
 "nbformat": 4,
 "nbformat_minor": 2
}
