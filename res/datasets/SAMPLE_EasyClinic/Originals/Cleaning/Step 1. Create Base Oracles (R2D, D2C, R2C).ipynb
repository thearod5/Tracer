{
 "cells": [
  {
   "cell_type": "code",
   "execution_count": 1,
   "metadata": {},
   "outputs": [],
   "source": [
    "import pandas as pd\n",
    "import numpy as np\n",
    "import os\n",
    "import sys"
   ]
  },
  {
   "cell_type": "code",
   "execution_count": 2,
   "metadata": {},
   "outputs": [],
   "source": [
    "sys.path.append(\"../../../../Tracer/src\")\n",
    "from PreProcessing.Traces.TraceCreator import create_trace_matrix_from_trace_list\n",
    "\n",
    "def create_trace_list(path_to_oracle):\n",
    "    oracle = open(path_to_oracle).read().split(\"\\n\")\n",
    "    trace_list = []\n",
    "    for trace_item in oracle:\n",
    "        if len(trace_item) > 0:\n",
    "            source, targets = trace_item.split(\":\")\n",
    "            for target in targets.split(\" \"):\n",
    "                if len(target) != 0:\n",
    "                    trace_list.append(\" \".join([source, target]))\n",
    "                else:\n",
    "                    trace_list.append(\" \".join([source, \"\"]))\n",
    "    return create_trace_matrix_from_trace_list(trace_list)"
   ]
  },
  {
   "cell_type": "markdown",
   "metadata": {},
   "source": [
    "# 1 -> 2"
   ]
  },
  {
   "cell_type": "code",
   "execution_count": 3,
   "metadata": {},
   "outputs": [
    {
     "name": "stdout",
     "output_type": "stream",
     "text": [
      "shape:  (30, 20)\n"
     ]
    },
    {
     "data": {
      "text/html": [
       "<div>\n",
       "<style scoped>\n",
       "    .dataframe tbody tr th:only-of-type {\n",
       "        vertical-align: middle;\n",
       "    }\n",
       "\n",
       "    .dataframe tbody tr th {\n",
       "        vertical-align: top;\n",
       "    }\n",
       "\n",
       "    .dataframe thead th {\n",
       "        text-align: right;\n",
       "    }\n",
       "</style>\n",
       "<table border=\"1\" class=\"dataframe\">\n",
       "  <thead>\n",
       "    <tr style=\"text-align: right;\">\n",
       "      <th></th>\n",
       "      <th>41.txt</th>\n",
       "      <th>46.txt</th>\n",
       "      <th>48.txt</th>\n",
       "      <th>33.txt</th>\n",
       "      <th>50.txt</th>\n",
       "      <th>39.txt</th>\n",
       "      <th>37.txt</th>\n",
       "      <th>47.txt</th>\n",
       "      <th>45.txt</th>\n",
       "      <th>42.txt</th>\n",
       "      <th>35.txt</th>\n",
       "      <th>36.txt</th>\n",
       "      <th>40.txt</th>\n",
       "      <th>34.txt</th>\n",
       "      <th>44.txt</th>\n",
       "      <th>43.txt</th>\n",
       "      <th>49.txt</th>\n",
       "      <th>31.txt</th>\n",
       "      <th>38.txt</th>\n",
       "      <th>32.txt</th>\n",
       "    </tr>\n",
       "    <tr>\n",
       "      <th>id</th>\n",
       "      <th></th>\n",
       "      <th></th>\n",
       "      <th></th>\n",
       "      <th></th>\n",
       "      <th></th>\n",
       "      <th></th>\n",
       "      <th></th>\n",
       "      <th></th>\n",
       "      <th></th>\n",
       "      <th></th>\n",
       "      <th></th>\n",
       "      <th></th>\n",
       "      <th></th>\n",
       "      <th></th>\n",
       "      <th></th>\n",
       "      <th></th>\n",
       "      <th></th>\n",
       "      <th></th>\n",
       "      <th></th>\n",
       "      <th></th>\n",
       "    </tr>\n",
       "  </thead>\n",
       "  <tbody>\n",
       "    <tr>\n",
       "      <th>2.txt</th>\n",
       "      <td>0.0</td>\n",
       "      <td>0.0</td>\n",
       "      <td>0.0</td>\n",
       "      <td>0.0</td>\n",
       "      <td>0.0</td>\n",
       "      <td>0.0</td>\n",
       "      <td>0.0</td>\n",
       "      <td>0.0</td>\n",
       "      <td>0.0</td>\n",
       "      <td>0.0</td>\n",
       "      <td>0.0</td>\n",
       "      <td>0.0</td>\n",
       "      <td>0.0</td>\n",
       "      <td>1.0</td>\n",
       "      <td>0.0</td>\n",
       "      <td>0.0</td>\n",
       "      <td>0.0</td>\n",
       "      <td>0.0</td>\n",
       "      <td>0.0</td>\n",
       "      <td>0.0</td>\n",
       "    </tr>\n",
       "  </tbody>\n",
       "</table>\n",
       "</div>"
      ],
      "text/plain": [
       "       41.txt  46.txt  48.txt  33.txt  50.txt  39.txt  37.txt  47.txt  45.txt  \\\n",
       "id                                                                              \n",
       "2.txt     0.0     0.0     0.0     0.0     0.0     0.0     0.0     0.0     0.0   \n",
       "\n",
       "       42.txt  35.txt  36.txt  40.txt  34.txt  44.txt  43.txt  49.txt  31.txt  \\\n",
       "id                                                                              \n",
       "2.txt     0.0     0.0     0.0     0.0     1.0     0.0     0.0     0.0     0.0   \n",
       "\n",
       "       38.txt  32.txt  \n",
       "id                     \n",
       "2.txt     0.0     0.0  "
      ]
     },
     "execution_count": 3,
     "metadata": {},
     "output_type": "execute_result"
    }
   ],
   "source": [
    "path_to_oracle = \"../Originals/TracedMatrices/UC_ID.txt\"\n",
    "level_1_to_level_2 = create_trace_list(path_to_oracle)\n",
    "print(\"shape: \", level_1_to_level_2.shape)\n",
    "level_1_to_level_2.head(1)"
   ]
  },
  {
   "cell_type": "code",
   "execution_count": 4,
   "metadata": {},
   "outputs": [
    {
     "data": {
      "text/plain": [
       "Index(['41.txt', '46.txt', '48.txt', '33.txt', '50.txt', '39.txt', '37.txt',\n",
       "       '47.txt', '45.txt', '42.txt', '35.txt', '36.txt', '40.txt', '34.txt',\n",
       "       '44.txt', '43.txt', '49.txt', '31.txt', '38.txt', '32.txt'],\n",
       "      dtype='object')"
      ]
     },
     "execution_count": 4,
     "metadata": {},
     "output_type": "execute_result"
    }
   ],
   "source": [
    "level_1_to_level_2.columns"
   ]
  },
  {
   "cell_type": "markdown",
   "metadata": {},
   "source": [
    "# 2 -> 3"
   ]
  },
  {
   "cell_type": "code",
   "execution_count": 5,
   "metadata": {},
   "outputs": [
    {
     "name": "stdout",
     "output_type": "stream",
     "text": [
      "shape:  (20, 30)\n"
     ]
    },
    {
     "data": {
      "text/html": [
       "<div>\n",
       "<style scoped>\n",
       "    .dataframe tbody tr th:only-of-type {\n",
       "        vertical-align: middle;\n",
       "    }\n",
       "\n",
       "    .dataframe tbody tr th {\n",
       "        vertical-align: top;\n",
       "    }\n",
       "\n",
       "    .dataframe thead th {\n",
       "        text-align: right;\n",
       "    }\n",
       "</style>\n",
       "<table border=\"1\" class=\"dataframe\">\n",
       "  <thead>\n",
       "    <tr style=\"text-align: right;\">\n",
       "      <th></th>\n",
       "      <th>141.txt</th>\n",
       "      <th>149.txt</th>\n",
       "      <th>154.txt</th>\n",
       "      <th>152.txt</th>\n",
       "      <th>151.txt</th>\n",
       "      <th>134.txt</th>\n",
       "      <th>136.txt</th>\n",
       "      <th>124.txt</th>\n",
       "      <th>118.txt</th>\n",
       "      <th>147.txt</th>\n",
       "      <th>...</th>\n",
       "      <th>117.txt</th>\n",
       "      <th>145.txt</th>\n",
       "      <th>123.txt</th>\n",
       "      <th>148.txt</th>\n",
       "      <th>120.txt</th>\n",
       "      <th>158.txt</th>\n",
       "      <th>122.txt</th>\n",
       "      <th>132.txt</th>\n",
       "      <th>114.txt</th>\n",
       "      <th>155.txt</th>\n",
       "    </tr>\n",
       "    <tr>\n",
       "      <th>id</th>\n",
       "      <th></th>\n",
       "      <th></th>\n",
       "      <th></th>\n",
       "      <th></th>\n",
       "      <th></th>\n",
       "      <th></th>\n",
       "      <th></th>\n",
       "      <th></th>\n",
       "      <th></th>\n",
       "      <th></th>\n",
       "      <th></th>\n",
       "      <th></th>\n",
       "      <th></th>\n",
       "      <th></th>\n",
       "      <th></th>\n",
       "      <th></th>\n",
       "      <th></th>\n",
       "      <th></th>\n",
       "      <th></th>\n",
       "      <th></th>\n",
       "      <th></th>\n",
       "    </tr>\n",
       "  </thead>\n",
       "  <tbody>\n",
       "    <tr>\n",
       "      <th>41.txt</th>\n",
       "      <td>0.0</td>\n",
       "      <td>0.0</td>\n",
       "      <td>1.0</td>\n",
       "      <td>0.0</td>\n",
       "      <td>0.0</td>\n",
       "      <td>1.0</td>\n",
       "      <td>1.0</td>\n",
       "      <td>0.0</td>\n",
       "      <td>0.0</td>\n",
       "      <td>0.0</td>\n",
       "      <td>...</td>\n",
       "      <td>0.0</td>\n",
       "      <td>1.0</td>\n",
       "      <td>0.0</td>\n",
       "      <td>1.0</td>\n",
       "      <td>0.0</td>\n",
       "      <td>0.0</td>\n",
       "      <td>0.0</td>\n",
       "      <td>0.0</td>\n",
       "      <td>0.0</td>\n",
       "      <td>0.0</td>\n",
       "    </tr>\n",
       "  </tbody>\n",
       "</table>\n",
       "<p>1 rows × 30 columns</p>\n",
       "</div>"
      ],
      "text/plain": [
       "        141.txt  149.txt  154.txt  152.txt  151.txt  134.txt  136.txt  \\\n",
       "id                                                                      \n",
       "41.txt      0.0      0.0      1.0      0.0      0.0      1.0      1.0   \n",
       "\n",
       "        124.txt  118.txt  147.txt  ...  117.txt  145.txt  123.txt  148.txt  \\\n",
       "id                                 ...                                       \n",
       "41.txt      0.0      0.0      0.0  ...      0.0      1.0      0.0      1.0   \n",
       "\n",
       "        120.txt  158.txt  122.txt  132.txt  114.txt  155.txt  \n",
       "id                                                            \n",
       "41.txt      0.0      0.0      0.0      0.0      0.0      0.0  \n",
       "\n",
       "[1 rows x 30 columns]"
      ]
     },
     "execution_count": 5,
     "metadata": {},
     "output_type": "execute_result"
    }
   ],
   "source": [
    "path_to_oracle = \"../Originals/TracedMatrices/ID_CC.txt\"\n",
    "level_2_to_level_3 = create_trace_list(path_to_oracle)\n",
    "print(\"shape: \", level_2_to_level_3.shape)\n",
    "level_2_to_level_3.head(1)"
   ]
  },
  {
   "cell_type": "markdown",
   "metadata": {},
   "source": [
    "# 1 -> 3"
   ]
  },
  {
   "cell_type": "code",
   "execution_count": 6,
   "metadata": {},
   "outputs": [
    {
     "name": "stdout",
     "output_type": "stream",
     "text": [
      "shape:  (30, 35)\n"
     ]
    },
    {
     "data": {
      "text/html": [
       "<div>\n",
       "<style scoped>\n",
       "    .dataframe tbody tr th:only-of-type {\n",
       "        vertical-align: middle;\n",
       "    }\n",
       "\n",
       "    .dataframe tbody tr th {\n",
       "        vertical-align: top;\n",
       "    }\n",
       "\n",
       "    .dataframe thead th {\n",
       "        text-align: right;\n",
       "    }\n",
       "</style>\n",
       "<table border=\"1\" class=\"dataframe\">\n",
       "  <thead>\n",
       "    <tr style=\"text-align: right;\">\n",
       "      <th></th>\n",
       "      <th>141.txt</th>\n",
       "      <th>149.txt</th>\n",
       "      <th>134.txt</th>\n",
       "      <th>152.txt</th>\n",
       "      <th>154.txt</th>\n",
       "      <th>136.txt</th>\n",
       "      <th>124.txt</th>\n",
       "      <th>118.txt</th>\n",
       "      <th>147.txt</th>\n",
       "      <th>153.txt</th>\n",
       "      <th>...</th>\n",
       "      <th>130.txt</th>\n",
       "      <th>128.txt</th>\n",
       "      <th>148.txt</th>\n",
       "      <th>120.txt</th>\n",
       "      <th>158.txt</th>\n",
       "      <th>127.txt</th>\n",
       "      <th>122.txt</th>\n",
       "      <th>132.txt</th>\n",
       "      <th>114.txt</th>\n",
       "      <th>155.txt</th>\n",
       "    </tr>\n",
       "    <tr>\n",
       "      <th>id</th>\n",
       "      <th></th>\n",
       "      <th></th>\n",
       "      <th></th>\n",
       "      <th></th>\n",
       "      <th></th>\n",
       "      <th></th>\n",
       "      <th></th>\n",
       "      <th></th>\n",
       "      <th></th>\n",
       "      <th></th>\n",
       "      <th></th>\n",
       "      <th></th>\n",
       "      <th></th>\n",
       "      <th></th>\n",
       "      <th></th>\n",
       "      <th></th>\n",
       "      <th></th>\n",
       "      <th></th>\n",
       "      <th></th>\n",
       "      <th></th>\n",
       "      <th></th>\n",
       "    </tr>\n",
       "  </thead>\n",
       "  <tbody>\n",
       "    <tr>\n",
       "      <th>2.txt</th>\n",
       "      <td>0.0</td>\n",
       "      <td>0.0</td>\n",
       "      <td>0.0</td>\n",
       "      <td>0.0</td>\n",
       "      <td>0.0</td>\n",
       "      <td>0.0</td>\n",
       "      <td>0.0</td>\n",
       "      <td>0.0</td>\n",
       "      <td>1.0</td>\n",
       "      <td>0.0</td>\n",
       "      <td>...</td>\n",
       "      <td>0.0</td>\n",
       "      <td>0.0</td>\n",
       "      <td>0.0</td>\n",
       "      <td>0.0</td>\n",
       "      <td>1.0</td>\n",
       "      <td>0.0</td>\n",
       "      <td>1.0</td>\n",
       "      <td>0.0</td>\n",
       "      <td>0.0</td>\n",
       "      <td>0.0</td>\n",
       "    </tr>\n",
       "  </tbody>\n",
       "</table>\n",
       "<p>1 rows × 35 columns</p>\n",
       "</div>"
      ],
      "text/plain": [
       "       141.txt  149.txt  134.txt  152.txt  154.txt  136.txt  124.txt  118.txt  \\\n",
       "id                                                                              \n",
       "2.txt      0.0      0.0      0.0      0.0      0.0      0.0      0.0      0.0   \n",
       "\n",
       "       147.txt  153.txt  ...  130.txt  128.txt  148.txt  120.txt  158.txt  \\\n",
       "id                       ...                                                \n",
       "2.txt      1.0      0.0  ...      0.0      0.0      0.0      0.0      1.0   \n",
       "\n",
       "       127.txt  122.txt  132.txt  114.txt  155.txt  \n",
       "id                                                  \n",
       "2.txt      0.0      1.0      0.0      0.0      0.0  \n",
       "\n",
       "[1 rows x 35 columns]"
      ]
     },
     "execution_count": 6,
     "metadata": {},
     "output_type": "execute_result"
    }
   ],
   "source": [
    "path_to_oracle = \"../Originals/TracedMatrices/UC_CC.txt\"\n",
    "level_1_to_level_3 = create_trace_list(path_to_oracle)\n",
    "print(\"shape: \", level_1_to_level_3.shape)\n",
    "level_1_to_level_3.head(1)"
   ]
  },
  {
   "cell_type": "markdown",
   "metadata": {},
   "source": [
    "# Export"
   ]
  },
  {
   "cell_type": "code",
   "execution_count": 7,
   "metadata": {},
   "outputs": [
    {
     "name": "stdout",
     "output_type": "stream",
     "text": [
      "Done!\n"
     ]
    }
   ],
   "source": [
    "level_1_to_level_2.to_csv(\"../../Oracles/DataFrames/Level_1_to_Level_2.csv\")\n",
    "level_2_to_level_3.to_csv(\"../../Oracles/DataFrames/Level_2_to_Level_3.csv\")\n",
    "level_1_to_level_3.to_csv(\"../../Oracles/DataFrames/Level_1_to_Level_3.csv\")\n",
    "level_1_to_level_3.to_csv(\"../../Oracles/Relations.csv\")\n",
    "print(\"Done!\")"
   ]
  },
  {
   "cell_type": "code",
   "execution_count": null,
   "metadata": {},
   "outputs": [],
   "source": []
  }
 ],
 "metadata": {
  "kernelspec": {
   "display_name": "Python 3",
   "language": "python",
   "name": "python3"
  },
  "language_info": {
   "codemirror_mode": {
    "name": "ipython",
    "version": 3
   },
   "file_extension": ".py",
   "mimetype": "text/x-python",
   "name": "python",
   "nbconvert_exporter": "python",
   "pygments_lexer": "ipython3",
   "version": "3.7.3"
  }
 },
 "nbformat": 4,
 "nbformat_minor": 2
}
