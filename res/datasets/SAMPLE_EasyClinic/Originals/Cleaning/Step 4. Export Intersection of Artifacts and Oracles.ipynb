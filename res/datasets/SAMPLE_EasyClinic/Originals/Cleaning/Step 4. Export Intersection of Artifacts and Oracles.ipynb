{
 "cells": [
  {
   "cell_type": "code",
   "execution_count": 1,
   "metadata": {},
   "outputs": [],
   "source": [
    "import pandas as pd\n",
    "import numpy as np"
   ]
  },
  {
   "cell_type": "code",
   "execution_count": 2,
   "metadata": {},
   "outputs": [
    {
     "name": "stdout",
     "output_type": "stream",
     "text": [
      "30\n"
     ]
    }
   ],
   "source": [
    "level_1 = pd.read_csv(\"../Level_1.csv\")\n",
    "print(len(level_1))"
   ]
  },
  {
   "cell_type": "code",
   "execution_count": 3,
   "metadata": {},
   "outputs": [
    {
     "name": "stdout",
     "output_type": "stream",
     "text": [
      "20\n"
     ]
    }
   ],
   "source": [
    "level_2 = pd.read_csv(\"../Level_2.csv\")\n",
    "print(len(level_2))"
   ]
  },
  {
   "cell_type": "code",
   "execution_count": 4,
   "metadata": {},
   "outputs": [
    {
     "name": "stdout",
     "output_type": "stream",
     "text": [
      "47\n"
     ]
    }
   ],
   "source": [
    "level_3 = pd.read_csv(\"../Level_3.csv\")\n",
    "print(len(level_3))"
   ]
  },
  {
   "cell_type": "markdown",
   "metadata": {},
   "source": [
    "# Intersection"
   ]
  },
  {
   "cell_type": "code",
   "execution_count": 5,
   "metadata": {},
   "outputs": [
    {
     "data": {
      "text/html": [
       "<div>\n",
       "<style scoped>\n",
       "    .dataframe tbody tr th:only-of-type {\n",
       "        vertical-align: middle;\n",
       "    }\n",
       "\n",
       "    .dataframe tbody tr th {\n",
       "        vertical-align: top;\n",
       "    }\n",
       "\n",
       "    .dataframe thead th {\n",
       "        text-align: right;\n",
       "    }\n",
       "</style>\n",
       "<table border=\"1\" class=\"dataframe\">\n",
       "  <thead>\n",
       "    <tr style=\"text-align: right;\">\n",
       "      <th></th>\n",
       "      <th>141.txt</th>\n",
       "      <th>149.txt</th>\n",
       "      <th>134.txt</th>\n",
       "      <th>152.txt</th>\n",
       "      <th>154.txt</th>\n",
       "      <th>136.txt</th>\n",
       "      <th>124.txt</th>\n",
       "      <th>118.txt</th>\n",
       "      <th>147.txt</th>\n",
       "      <th>153.txt</th>\n",
       "      <th>...</th>\n",
       "      <th>130.txt</th>\n",
       "      <th>128.txt</th>\n",
       "      <th>148.txt</th>\n",
       "      <th>120.txt</th>\n",
       "      <th>158.txt</th>\n",
       "      <th>127.txt</th>\n",
       "      <th>122.txt</th>\n",
       "      <th>132.txt</th>\n",
       "      <th>114.txt</th>\n",
       "      <th>155.txt</th>\n",
       "    </tr>\n",
       "    <tr>\n",
       "      <th>id</th>\n",
       "      <th></th>\n",
       "      <th></th>\n",
       "      <th></th>\n",
       "      <th></th>\n",
       "      <th></th>\n",
       "      <th></th>\n",
       "      <th></th>\n",
       "      <th></th>\n",
       "      <th></th>\n",
       "      <th></th>\n",
       "      <th></th>\n",
       "      <th></th>\n",
       "      <th></th>\n",
       "      <th></th>\n",
       "      <th></th>\n",
       "      <th></th>\n",
       "      <th></th>\n",
       "      <th></th>\n",
       "      <th></th>\n",
       "      <th></th>\n",
       "      <th></th>\n",
       "    </tr>\n",
       "  </thead>\n",
       "  <tbody>\n",
       "    <tr>\n",
       "      <th>2.txt</th>\n",
       "      <td>0.0</td>\n",
       "      <td>0.0</td>\n",
       "      <td>0.0</td>\n",
       "      <td>0.0</td>\n",
       "      <td>0.0</td>\n",
       "      <td>0.0</td>\n",
       "      <td>1.0</td>\n",
       "      <td>0.0</td>\n",
       "      <td>1.0</td>\n",
       "      <td>1.0</td>\n",
       "      <td>...</td>\n",
       "      <td>0.0</td>\n",
       "      <td>0.0</td>\n",
       "      <td>0.0</td>\n",
       "      <td>0.0</td>\n",
       "      <td>1.0</td>\n",
       "      <td>0.0</td>\n",
       "      <td>1.0</td>\n",
       "      <td>0.0</td>\n",
       "      <td>0.0</td>\n",
       "      <td>0.0</td>\n",
       "    </tr>\n",
       "  </tbody>\n",
       "</table>\n",
       "<p>1 rows × 35 columns</p>\n",
       "</div>"
      ],
      "text/plain": [
       "       141.txt  149.txt  134.txt  152.txt  154.txt  136.txt  124.txt  118.txt  \\\n",
       "id                                                                              \n",
       "2.txt      0.0      0.0      0.0      0.0      0.0      0.0      1.0      0.0   \n",
       "\n",
       "       147.txt  153.txt  ...  130.txt  128.txt  148.txt  120.txt  158.txt  \\\n",
       "id                       ...                                                \n",
       "2.txt      1.0      1.0  ...      0.0      0.0      0.0      0.0      1.0   \n",
       "\n",
       "       127.txt  122.txt  132.txt  114.txt  155.txt  \n",
       "id                                                  \n",
       "2.txt      0.0      1.0      0.0      0.0      0.0  \n",
       "\n",
       "[1 rows x 35 columns]"
      ]
     },
     "execution_count": 5,
     "metadata": {},
     "output_type": "execute_result"
    }
   ],
   "source": [
    "relations_df = pd.read_csv(\"../../Oracles/DataFrames/Level_1_to_Level_3.csv\").set_index(\"id\")\n",
    "relations_df.head(1)"
   ]
  },
  {
   "cell_type": "markdown",
   "metadata": {},
   "source": [
    "### Level 1 to Level 2"
   ]
  },
  {
   "cell_type": "code",
   "execution_count": 6,
   "metadata": {},
   "outputs": [
    {
     "data": {
      "text/html": [
       "<div>\n",
       "<style scoped>\n",
       "    .dataframe tbody tr th:only-of-type {\n",
       "        vertical-align: middle;\n",
       "    }\n",
       "\n",
       "    .dataframe tbody tr th {\n",
       "        vertical-align: top;\n",
       "    }\n",
       "\n",
       "    .dataframe thead th {\n",
       "        text-align: right;\n",
       "    }\n",
       "</style>\n",
       "<table border=\"1\" class=\"dataframe\">\n",
       "  <thead>\n",
       "    <tr style=\"text-align: right;\">\n",
       "      <th></th>\n",
       "      <th>41.txt</th>\n",
       "      <th>46.txt</th>\n",
       "      <th>48.txt</th>\n",
       "      <th>33.txt</th>\n",
       "      <th>50.txt</th>\n",
       "      <th>39.txt</th>\n",
       "      <th>37.txt</th>\n",
       "      <th>47.txt</th>\n",
       "      <th>45.txt</th>\n",
       "      <th>42.txt</th>\n",
       "      <th>35.txt</th>\n",
       "      <th>36.txt</th>\n",
       "      <th>40.txt</th>\n",
       "      <th>34.txt</th>\n",
       "      <th>44.txt</th>\n",
       "      <th>43.txt</th>\n",
       "      <th>49.txt</th>\n",
       "      <th>31.txt</th>\n",
       "      <th>38.txt</th>\n",
       "      <th>32.txt</th>\n",
       "    </tr>\n",
       "    <tr>\n",
       "      <th>id</th>\n",
       "      <th></th>\n",
       "      <th></th>\n",
       "      <th></th>\n",
       "      <th></th>\n",
       "      <th></th>\n",
       "      <th></th>\n",
       "      <th></th>\n",
       "      <th></th>\n",
       "      <th></th>\n",
       "      <th></th>\n",
       "      <th></th>\n",
       "      <th></th>\n",
       "      <th></th>\n",
       "      <th></th>\n",
       "      <th></th>\n",
       "      <th></th>\n",
       "      <th></th>\n",
       "      <th></th>\n",
       "      <th></th>\n",
       "      <th></th>\n",
       "    </tr>\n",
       "  </thead>\n",
       "  <tbody>\n",
       "    <tr>\n",
       "      <th>2.txt</th>\n",
       "      <td>0.0</td>\n",
       "      <td>0.0</td>\n",
       "      <td>0.0</td>\n",
       "      <td>1.0</td>\n",
       "      <td>0.0</td>\n",
       "      <td>0.0</td>\n",
       "      <td>0.0</td>\n",
       "      <td>0.0</td>\n",
       "      <td>0.0</td>\n",
       "      <td>0.0</td>\n",
       "      <td>1.0</td>\n",
       "      <td>0.0</td>\n",
       "      <td>0.0</td>\n",
       "      <td>1.0</td>\n",
       "      <td>0.0</td>\n",
       "      <td>0.0</td>\n",
       "      <td>0.0</td>\n",
       "      <td>0.0</td>\n",
       "      <td>0.0</td>\n",
       "      <td>0.0</td>\n",
       "    </tr>\n",
       "  </tbody>\n",
       "</table>\n",
       "</div>"
      ],
      "text/plain": [
       "       41.txt  46.txt  48.txt  33.txt  50.txt  39.txt  37.txt  47.txt  45.txt  \\\n",
       "id                                                                              \n",
       "2.txt     0.0     0.0     0.0     1.0     0.0     0.0     0.0     0.0     0.0   \n",
       "\n",
       "       42.txt  35.txt  36.txt  40.txt  34.txt  44.txt  43.txt  49.txt  31.txt  \\\n",
       "id                                                                              \n",
       "2.txt     0.0     1.0     0.0     0.0     1.0     0.0     0.0     0.0     0.0   \n",
       "\n",
       "       38.txt  32.txt  \n",
       "id                     \n",
       "2.txt     0.0     0.0  "
      ]
     },
     "execution_count": 6,
     "metadata": {},
     "output_type": "execute_result"
    }
   ],
   "source": [
    "r_2_d = pd.read_csv(\"../../Oracles/DataFrames/Level_1_to_Level_2.csv\").set_index(\"id\")\n",
    "r_2_d.head(1)"
   ]
  },
  {
   "cell_type": "markdown",
   "metadata": {},
   "source": [
    "### Level 2 to Level 3"
   ]
  },
  {
   "cell_type": "code",
   "execution_count": 7,
   "metadata": {},
   "outputs": [
    {
     "data": {
      "text/html": [
       "<div>\n",
       "<style scoped>\n",
       "    .dataframe tbody tr th:only-of-type {\n",
       "        vertical-align: middle;\n",
       "    }\n",
       "\n",
       "    .dataframe tbody tr th {\n",
       "        vertical-align: top;\n",
       "    }\n",
       "\n",
       "    .dataframe thead th {\n",
       "        text-align: right;\n",
       "    }\n",
       "</style>\n",
       "<table border=\"1\" class=\"dataframe\">\n",
       "  <thead>\n",
       "    <tr style=\"text-align: right;\">\n",
       "      <th></th>\n",
       "      <th>141.txt</th>\n",
       "      <th>149.txt</th>\n",
       "      <th>154.txt</th>\n",
       "      <th>152.txt</th>\n",
       "      <th>151.txt</th>\n",
       "      <th>134.txt</th>\n",
       "      <th>136.txt</th>\n",
       "      <th>124.txt</th>\n",
       "      <th>118.txt</th>\n",
       "      <th>147.txt</th>\n",
       "      <th>...</th>\n",
       "      <th>117.txt</th>\n",
       "      <th>145.txt</th>\n",
       "      <th>123.txt</th>\n",
       "      <th>148.txt</th>\n",
       "      <th>120.txt</th>\n",
       "      <th>158.txt</th>\n",
       "      <th>122.txt</th>\n",
       "      <th>132.txt</th>\n",
       "      <th>114.txt</th>\n",
       "      <th>155.txt</th>\n",
       "    </tr>\n",
       "    <tr>\n",
       "      <th>id</th>\n",
       "      <th></th>\n",
       "      <th></th>\n",
       "      <th></th>\n",
       "      <th></th>\n",
       "      <th></th>\n",
       "      <th></th>\n",
       "      <th></th>\n",
       "      <th></th>\n",
       "      <th></th>\n",
       "      <th></th>\n",
       "      <th></th>\n",
       "      <th></th>\n",
       "      <th></th>\n",
       "      <th></th>\n",
       "      <th></th>\n",
       "      <th></th>\n",
       "      <th></th>\n",
       "      <th></th>\n",
       "      <th></th>\n",
       "      <th></th>\n",
       "      <th></th>\n",
       "    </tr>\n",
       "  </thead>\n",
       "  <tbody>\n",
       "    <tr>\n",
       "      <th>41.txt</th>\n",
       "      <td>0.0</td>\n",
       "      <td>0.0</td>\n",
       "      <td>1.0</td>\n",
       "      <td>0.0</td>\n",
       "      <td>0.0</td>\n",
       "      <td>1.0</td>\n",
       "      <td>1.0</td>\n",
       "      <td>0.0</td>\n",
       "      <td>0.0</td>\n",
       "      <td>0.0</td>\n",
       "      <td>...</td>\n",
       "      <td>1.0</td>\n",
       "      <td>1.0</td>\n",
       "      <td>0.0</td>\n",
       "      <td>1.0</td>\n",
       "      <td>0.0</td>\n",
       "      <td>0.0</td>\n",
       "      <td>0.0</td>\n",
       "      <td>1.0</td>\n",
       "      <td>1.0</td>\n",
       "      <td>0.0</td>\n",
       "    </tr>\n",
       "  </tbody>\n",
       "</table>\n",
       "<p>1 rows × 30 columns</p>\n",
       "</div>"
      ],
      "text/plain": [
       "        141.txt  149.txt  154.txt  152.txt  151.txt  134.txt  136.txt  \\\n",
       "id                                                                      \n",
       "41.txt      0.0      0.0      1.0      0.0      0.0      1.0      1.0   \n",
       "\n",
       "        124.txt  118.txt  147.txt  ...  117.txt  145.txt  123.txt  148.txt  \\\n",
       "id                                 ...                                       \n",
       "41.txt      0.0      0.0      0.0  ...      1.0      1.0      0.0      1.0   \n",
       "\n",
       "        120.txt  158.txt  122.txt  132.txt  114.txt  155.txt  \n",
       "id                                                            \n",
       "41.txt      0.0      0.0      0.0      1.0      1.0      0.0  \n",
       "\n",
       "[1 rows x 30 columns]"
      ]
     },
     "execution_count": 7,
     "metadata": {},
     "output_type": "execute_result"
    }
   ],
   "source": [
    "d_2_c = pd.read_csv(\"../../Oracles/DataFrames/Level_2_to_Level_3.csv\").set_index(\"id\")\n",
    "d_2_c.head(1)"
   ]
  },
  {
   "cell_type": "code",
   "execution_count": 8,
   "metadata": {},
   "outputs": [],
   "source": [
    "r_intersection = set(r_2_d.index) & set(relations_df.index) & set(level_1[\"id\"])\n",
    "d_intersection = set(r_2_d.columns) & set(d_2_c.index) & set(level_2[\"id\"])\n",
    "c_intersection = set(d_2_c.columns) & set(level_3[\"id\"]) & set(relations_df.columns)"
   ]
  },
  {
   "cell_type": "code",
   "execution_count": 9,
   "metadata": {},
   "outputs": [
    {
     "name": "stdout",
     "output_type": "stream",
     "text": [
      "Number Requirements:  30\n",
      "Number Designs:  20\n",
      "Number Classes:  28\n"
     ]
    }
   ],
   "source": [
    "print(\"Number Requirements: \", len(r_intersection))\n",
    "print(\"Number Designs: \", len(d_intersection))\n",
    "print(\"Number Classes: \", len(c_intersection))"
   ]
  },
  {
   "cell_type": "markdown",
   "metadata": {},
   "source": [
    "# Filter"
   ]
  },
  {
   "cell_type": "code",
   "execution_count": 10,
   "metadata": {},
   "outputs": [],
   "source": [
    "relations_df = relations_df.loc[r_intersection][c_intersection]\n",
    "r_2_d = r_2_d.loc[r_intersection][d_intersection]\n",
    "d_2_c = d_2_c.loc[d_intersection][c_intersection]"
   ]
  },
  {
   "cell_type": "code",
   "execution_count": 11,
   "metadata": {},
   "outputs": [],
   "source": [
    "level_1 = level_1.set_index(\"id\").loc[r_intersection].reset_index()\n",
    "level_2 = level_2.set_index(\"id\").loc[d_intersection].reset_index()\n",
    "level_3 = level_3.set_index(\"id\").loc[c_intersection].reset_index()"
   ]
  },
  {
   "cell_type": "code",
   "execution_count": 12,
   "metadata": {},
   "outputs": [],
   "source": [
    "assert relations_df.shape == (len(r_intersection), len(c_intersection))\n",
    "assert r_2_d.shape == (len(r_intersection), len(d_intersection))\n",
    "assert d_2_c.shape == (len(d_intersection), len(c_intersection))\n",
    "assert len(level_1) == len(r_intersection)\n",
    "assert len(level_2) == len(d_intersection)\n",
    "assert len(level_3) == len(c_intersection)"
   ]
  },
  {
   "cell_type": "markdown",
   "metadata": {},
   "source": [
    "# Export"
   ]
  },
  {
   "cell_type": "code",
   "execution_count": 13,
   "metadata": {},
   "outputs": [
    {
     "data": {
      "text/plain": [
       "130.0"
      ]
     },
     "execution_count": 13,
     "metadata": {},
     "output_type": "execute_result"
    }
   ],
   "source": [
    "r_2_d.sum().sum()"
   ]
  },
  {
   "cell_type": "code",
   "execution_count": 14,
   "metadata": {},
   "outputs": [
    {
     "data": {
      "text/plain": [
       "600"
      ]
     },
     "execution_count": 14,
     "metadata": {},
     "output_type": "execute_result"
    }
   ],
   "source": [
    "len(level_1) * len(level_2)"
   ]
  },
  {
   "cell_type": "code",
   "execution_count": 15,
   "metadata": {},
   "outputs": [
    {
     "name": "stdout",
     "output_type": "stream",
     "text": [
      "Done!\n"
     ]
    }
   ],
   "source": [
    "level_1.to_csv(\"../Level_1.csv\")\n",
    "level_2.to_csv(\"../Level_2.csv\")\n",
    "level_3.to_csv(\"../Level_3.csv\")\n",
    "np.save(\"../../Oracles/TracedMatrices/Level_1_to_Level_2.npy\", r_2_d.values)\n",
    "np.save(\"../../Oracles/TracedMatrices/Level_2_to_Level_3.npy\", d_2_c.values)\n",
    "relations_df.to_csv(\"../../Oracles/Relations.csv\")\n",
    "print(\"Done!\")"
   ]
  },
  {
   "cell_type": "code",
   "execution_count": 16,
   "metadata": {},
   "outputs": [],
   "source": [
    "a = r_2_d.values\n",
    "b = d_2_c.values\n",
    "similarity_matrix = np.dot(a, b)"
   ]
  },
  {
   "cell_type": "code",
   "execution_count": 17,
   "metadata": {},
   "outputs": [
    {
     "data": {
      "text/plain": [
       "(30, 28)"
      ]
     },
     "execution_count": 17,
     "metadata": {},
     "output_type": "execute_result"
    }
   ],
   "source": [
    "similarity_matrix.shape"
   ]
  },
  {
   "cell_type": "code",
   "execution_count": 18,
   "metadata": {},
   "outputs": [
    {
     "name": "stdout",
     "output_type": "stream",
     "text": [
      "Scores: 30\n"
     ]
    },
    {
     "data": {
      "text/plain": [
       "array([4., 7., 2., 5., 4., 4., 3., 4., 2., 2., 3., 5., 5., 7., 7., 5., 4.,\n",
       "       4., 4., 5., 3., 5., 3., 4., 7., 3., 7., 3., 5., 4.])"
      ]
     },
     "execution_count": 18,
     "metadata": {},
     "output_type": "execute_result"
    }
   ],
   "source": [
    "scores = np.apply_along_axis(max, 1, similarity_matrix)\n",
    "print(\"Scores:\", len(scores))\n",
    "scores"
   ]
  },
  {
   "cell_type": "code",
   "execution_count": 19,
   "metadata": {},
   "outputs": [
    {
     "data": {
      "text/plain": [
       "30"
      ]
     },
     "execution_count": 19,
     "metadata": {},
     "output_type": "execute_result"
    }
   ],
   "source": [
    "len(level_1)"
   ]
  }
 ],
 "metadata": {
  "kernelspec": {
   "display_name": "Python 3",
   "language": "python",
   "name": "python3"
  },
  "language_info": {
   "codemirror_mode": {
    "name": "ipython",
    "version": 3
   },
   "file_extension": ".py",
   "mimetype": "text/x-python",
   "name": "python",
   "nbconvert_exporter": "python",
   "pygments_lexer": "ipython3",
   "version": "3.7.3"
  }
 },
 "nbformat": 4,
 "nbformat_minor": 2
}
