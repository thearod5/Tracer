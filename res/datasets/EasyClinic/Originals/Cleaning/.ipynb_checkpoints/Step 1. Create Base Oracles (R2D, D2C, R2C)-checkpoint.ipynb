{
 "cells": [
  {
   "cell_type": "code",
   "execution_count": 1,
   "metadata": {},
   "outputs": [],
   "source": [
    "import pandas as pd\n",
    "import numpy as np\n",
    "import os\n",
    "import sys"
   ]
  },
  {
   "cell_type": "code",
   "execution_count": 2,
   "metadata": {},
   "outputs": [],
   "source": [
    "sys.path.append(\"../../../../Tracer/src\")\n",
    "from PreProcessing.Traces.TraceCreator import create_trace_matrix_from_trace_list\n",
    "\n",
    "def create_trace_list(path_to_oracle):\n",
    "    oracle = open(path_to_oracle).read().split(\"\\n\")\n",
    "    trace_list = []\n",
    "    for trace_item in oracle:\n",
    "        if len(trace_item) > 0:\n",
    "            source, targets = trace_item.split(\":\")\n",
    "            for target in targets.split(\" \"):\n",
    "                if len(target) != 0:\n",
    "                    trace_list.append(\" \".join([source, target]))\n",
    "                else:\n",
    "                    trace_list.append(\" \".join([source, \"\"]))\n",
    "    return create_trace_matrix_from_trace_list(trace_list)"
   ]
  },
  {
   "cell_type": "markdown",
   "metadata": {},
   "source": [
    "# 1 -> 2"
   ]
  },
  {
   "cell_type": "code",
   "execution_count": 3,
   "metadata": {},
   "outputs": [
    {
     "name": "stdout",
     "output_type": "stream",
     "text": [
      "shape:  (30, 20)\n"
     ]
    },
    {
     "data": {
      "text/html": [
       "<div>\n",
       "<style scoped>\n",
       "    .dataframe tbody tr th:only-of-type {\n",
       "        vertical-align: middle;\n",
       "    }\n",
       "\n",
       "    .dataframe tbody tr th {\n",
       "        vertical-align: top;\n",
       "    }\n",
       "\n",
       "    .dataframe thead th {\n",
       "        text-align: right;\n",
       "    }\n",
       "</style>\n",
       "<table border=\"1\" class=\"dataframe\">\n",
       "  <thead>\n",
       "    <tr style=\"text-align: right;\">\n",
       "      <th></th>\n",
       "      <th>34.txt</th>\n",
       "      <th>49.txt</th>\n",
       "      <th>44.txt</th>\n",
       "      <th>39.txt</th>\n",
       "      <th>46.txt</th>\n",
       "      <th>42.txt</th>\n",
       "      <th>36.txt</th>\n",
       "      <th>35.txt</th>\n",
       "      <th>32.txt</th>\n",
       "      <th>50.txt</th>\n",
       "      <th>47.txt</th>\n",
       "      <th>43.txt</th>\n",
       "      <th>48.txt</th>\n",
       "      <th>38.txt</th>\n",
       "      <th>31.txt</th>\n",
       "      <th>33.txt</th>\n",
       "      <th>41.txt</th>\n",
       "      <th>45.txt</th>\n",
       "      <th>40.txt</th>\n",
       "      <th>37.txt</th>\n",
       "    </tr>\n",
       "    <tr>\n",
       "      <th>id</th>\n",
       "      <th></th>\n",
       "      <th></th>\n",
       "      <th></th>\n",
       "      <th></th>\n",
       "      <th></th>\n",
       "      <th></th>\n",
       "      <th></th>\n",
       "      <th></th>\n",
       "      <th></th>\n",
       "      <th></th>\n",
       "      <th></th>\n",
       "      <th></th>\n",
       "      <th></th>\n",
       "      <th></th>\n",
       "      <th></th>\n",
       "      <th></th>\n",
       "      <th></th>\n",
       "      <th></th>\n",
       "      <th></th>\n",
       "      <th></th>\n",
       "    </tr>\n",
       "  </thead>\n",
       "  <tbody>\n",
       "    <tr>\n",
       "      <th>6.txt</th>\n",
       "      <td>0.0</td>\n",
       "      <td>0.0</td>\n",
       "      <td>0.0</td>\n",
       "      <td>0.0</td>\n",
       "      <td>0.0</td>\n",
       "      <td>0.0</td>\n",
       "      <td>0.0</td>\n",
       "      <td>1.0</td>\n",
       "      <td>0.0</td>\n",
       "      <td>0.0</td>\n",
       "      <td>0.0</td>\n",
       "      <td>0.0</td>\n",
       "      <td>0.0</td>\n",
       "      <td>0.0</td>\n",
       "      <td>0.0</td>\n",
       "      <td>0.0</td>\n",
       "      <td>0.0</td>\n",
       "      <td>0.0</td>\n",
       "      <td>0.0</td>\n",
       "      <td>0.0</td>\n",
       "    </tr>\n",
       "  </tbody>\n",
       "</table>\n",
       "</div>"
      ],
      "text/plain": [
       "       34.txt  49.txt  44.txt  39.txt  46.txt  42.txt  36.txt  35.txt  32.txt  \\\n",
       "id                                                                              \n",
       "6.txt     0.0     0.0     0.0     0.0     0.0     0.0     0.0     1.0     0.0   \n",
       "\n",
       "       50.txt  47.txt  43.txt  48.txt  38.txt  31.txt  33.txt  41.txt  45.txt  \\\n",
       "id                                                                              \n",
       "6.txt     0.0     0.0     0.0     0.0     0.0     0.0     0.0     0.0     0.0   \n",
       "\n",
       "       40.txt  37.txt  \n",
       "id                     \n",
       "6.txt     0.0     0.0  "
      ]
     },
     "execution_count": 3,
     "metadata": {},
     "output_type": "execute_result"
    }
   ],
   "source": [
    "path_to_oracle = \"../Originals/TracedMatrices/UC_ID.txt\"\n",
    "level_1_to_level_2 = create_trace_list(path_to_oracle)\n",
    "print(\"shape: \", level_1_to_level_2.shape)\n",
    "level_1_to_level_2.head(1)"
   ]
  },
  {
   "cell_type": "code",
   "execution_count": 4,
   "metadata": {},
   "outputs": [
    {
     "data": {
      "text/plain": [
       "Index(['34.txt', '49.txt', '44.txt', '39.txt', '46.txt', '42.txt', '36.txt',\n",
       "       '35.txt', '32.txt', '50.txt', '47.txt', '43.txt', '48.txt', '38.txt',\n",
       "       '31.txt', '33.txt', '41.txt', '45.txt', '40.txt', '37.txt'],\n",
       "      dtype='object')"
      ]
     },
     "execution_count": 4,
     "metadata": {},
     "output_type": "execute_result"
    }
   ],
   "source": [
    "level_1_to_level_2.columns"
   ]
  },
  {
   "cell_type": "markdown",
   "metadata": {},
   "source": [
    "# 2 -> 3"
   ]
  },
  {
   "cell_type": "code",
   "execution_count": 5,
   "metadata": {},
   "outputs": [
    {
     "name": "stdout",
     "output_type": "stream",
     "text": [
      "shape:  (20, 30)\n"
     ]
    },
    {
     "data": {
      "text/html": [
       "<div>\n",
       "<style scoped>\n",
       "    .dataframe tbody tr th:only-of-type {\n",
       "        vertical-align: middle;\n",
       "    }\n",
       "\n",
       "    .dataframe tbody tr th {\n",
       "        vertical-align: top;\n",
       "    }\n",
       "\n",
       "    .dataframe thead th {\n",
       "        text-align: right;\n",
       "    }\n",
       "</style>\n",
       "<table border=\"1\" class=\"dataframe\">\n",
       "  <thead>\n",
       "    <tr style=\"text-align: right;\">\n",
       "      <th></th>\n",
       "      <th>150.txt</th>\n",
       "      <th>118.txt</th>\n",
       "      <th>114.txt</th>\n",
       "      <th>138.txt</th>\n",
       "      <th>146.txt</th>\n",
       "      <th>120.txt</th>\n",
       "      <th>132.txt</th>\n",
       "      <th>153.txt</th>\n",
       "      <th>156.txt</th>\n",
       "      <th>151.txt</th>\n",
       "      <th>...</th>\n",
       "      <th>148.txt</th>\n",
       "      <th>123.txt</th>\n",
       "      <th>152.txt</th>\n",
       "      <th>124.txt</th>\n",
       "      <th>155.txt</th>\n",
       "      <th>140.txt</th>\n",
       "      <th>122.txt</th>\n",
       "      <th>159.txt</th>\n",
       "      <th>119.txt</th>\n",
       "      <th>136.txt</th>\n",
       "    </tr>\n",
       "    <tr>\n",
       "      <th>id</th>\n",
       "      <th></th>\n",
       "      <th></th>\n",
       "      <th></th>\n",
       "      <th></th>\n",
       "      <th></th>\n",
       "      <th></th>\n",
       "      <th></th>\n",
       "      <th></th>\n",
       "      <th></th>\n",
       "      <th></th>\n",
       "      <th></th>\n",
       "      <th></th>\n",
       "      <th></th>\n",
       "      <th></th>\n",
       "      <th></th>\n",
       "      <th></th>\n",
       "      <th></th>\n",
       "      <th></th>\n",
       "      <th></th>\n",
       "      <th></th>\n",
       "      <th></th>\n",
       "    </tr>\n",
       "  </thead>\n",
       "  <tbody>\n",
       "    <tr>\n",
       "      <th>34.txt</th>\n",
       "      <td>0.0</td>\n",
       "      <td>0.0</td>\n",
       "      <td>0.0</td>\n",
       "      <td>0.0</td>\n",
       "      <td>0.0</td>\n",
       "      <td>0.0</td>\n",
       "      <td>0.0</td>\n",
       "      <td>0.0</td>\n",
       "      <td>0.0</td>\n",
       "      <td>0.0</td>\n",
       "      <td>...</td>\n",
       "      <td>0.0</td>\n",
       "      <td>1.0</td>\n",
       "      <td>0.0</td>\n",
       "      <td>0.0</td>\n",
       "      <td>0.0</td>\n",
       "      <td>0.0</td>\n",
       "      <td>1.0</td>\n",
       "      <td>0.0</td>\n",
       "      <td>0.0</td>\n",
       "      <td>0.0</td>\n",
       "    </tr>\n",
       "  </tbody>\n",
       "</table>\n",
       "<p>1 rows × 30 columns</p>\n",
       "</div>"
      ],
      "text/plain": [
       "        150.txt  118.txt  114.txt  138.txt  146.txt  120.txt  132.txt  \\\n",
       "id                                                                      \n",
       "34.txt      0.0      0.0      0.0      0.0      0.0      0.0      0.0   \n",
       "\n",
       "        153.txt  156.txt  151.txt  ...  148.txt  123.txt  152.txt  124.txt  \\\n",
       "id                                 ...                                       \n",
       "34.txt      0.0      0.0      0.0  ...      0.0      1.0      0.0      0.0   \n",
       "\n",
       "        155.txt  140.txt  122.txt  159.txt  119.txt  136.txt  \n",
       "id                                                            \n",
       "34.txt      0.0      0.0      1.0      0.0      0.0      0.0  \n",
       "\n",
       "[1 rows x 30 columns]"
      ]
     },
     "execution_count": 5,
     "metadata": {},
     "output_type": "execute_result"
    }
   ],
   "source": [
    "path_to_oracle = \"../Originals/TracedMatrices/ID_CC.txt\"\n",
    "level_2_to_level_3 = create_trace_list(path_to_oracle)\n",
    "print(\"shape: \", level_2_to_level_3.shape)\n",
    "level_2_to_level_3.head(1)"
   ]
  },
  {
   "cell_type": "markdown",
   "metadata": {},
   "source": [
    "# 1 -> 3"
   ]
  },
  {
   "cell_type": "code",
   "execution_count": 6,
   "metadata": {},
   "outputs": [
    {
     "name": "stdout",
     "output_type": "stream",
     "text": [
      "shape:  (30, 35)\n"
     ]
    },
    {
     "data": {
      "text/html": [
       "<div>\n",
       "<style scoped>\n",
       "    .dataframe tbody tr th:only-of-type {\n",
       "        vertical-align: middle;\n",
       "    }\n",
       "\n",
       "    .dataframe tbody tr th {\n",
       "        vertical-align: top;\n",
       "    }\n",
       "\n",
       "    .dataframe thead th {\n",
       "        text-align: right;\n",
       "    }\n",
       "</style>\n",
       "<table border=\"1\" class=\"dataframe\">\n",
       "  <thead>\n",
       "    <tr style=\"text-align: right;\">\n",
       "      <th></th>\n",
       "      <th>150.txt</th>\n",
       "      <th>118.txt</th>\n",
       "      <th>114.txt</th>\n",
       "      <th>138.txt</th>\n",
       "      <th>146.txt</th>\n",
       "      <th>120.txt</th>\n",
       "      <th>132.txt</th>\n",
       "      <th>153.txt</th>\n",
       "      <th>156.txt</th>\n",
       "      <th>145.txt</th>\n",
       "      <th>...</th>\n",
       "      <th>152.txt</th>\n",
       "      <th>128.txt</th>\n",
       "      <th>144.txt</th>\n",
       "      <th>129.txt</th>\n",
       "      <th>124.txt</th>\n",
       "      <th>155.txt</th>\n",
       "      <th>140.txt</th>\n",
       "      <th>122.txt</th>\n",
       "      <th>159.txt</th>\n",
       "      <th>136.txt</th>\n",
       "    </tr>\n",
       "    <tr>\n",
       "      <th>id</th>\n",
       "      <th></th>\n",
       "      <th></th>\n",
       "      <th></th>\n",
       "      <th></th>\n",
       "      <th></th>\n",
       "      <th></th>\n",
       "      <th></th>\n",
       "      <th></th>\n",
       "      <th></th>\n",
       "      <th></th>\n",
       "      <th></th>\n",
       "      <th></th>\n",
       "      <th></th>\n",
       "      <th></th>\n",
       "      <th></th>\n",
       "      <th></th>\n",
       "      <th></th>\n",
       "      <th></th>\n",
       "      <th></th>\n",
       "      <th></th>\n",
       "      <th></th>\n",
       "    </tr>\n",
       "  </thead>\n",
       "  <tbody>\n",
       "    <tr>\n",
       "      <th>6.txt</th>\n",
       "      <td>0.0</td>\n",
       "      <td>0.0</td>\n",
       "      <td>0.0</td>\n",
       "      <td>0.0</td>\n",
       "      <td>1.0</td>\n",
       "      <td>0.0</td>\n",
       "      <td>0.0</td>\n",
       "      <td>1.0</td>\n",
       "      <td>0.0</td>\n",
       "      <td>0.0</td>\n",
       "      <td>...</td>\n",
       "      <td>0.0</td>\n",
       "      <td>0.0</td>\n",
       "      <td>0.0</td>\n",
       "      <td>0.0</td>\n",
       "      <td>1.0</td>\n",
       "      <td>0.0</td>\n",
       "      <td>0.0</td>\n",
       "      <td>1.0</td>\n",
       "      <td>0.0</td>\n",
       "      <td>0.0</td>\n",
       "    </tr>\n",
       "  </tbody>\n",
       "</table>\n",
       "<p>1 rows × 35 columns</p>\n",
       "</div>"
      ],
      "text/plain": [
       "       150.txt  118.txt  114.txt  138.txt  146.txt  120.txt  132.txt  153.txt  \\\n",
       "id                                                                              \n",
       "6.txt      0.0      0.0      0.0      0.0      1.0      0.0      0.0      1.0   \n",
       "\n",
       "       156.txt  145.txt  ...  152.txt  128.txt  144.txt  129.txt  124.txt  \\\n",
       "id                       ...                                                \n",
       "6.txt      0.0      0.0  ...      0.0      0.0      0.0      0.0      1.0   \n",
       "\n",
       "       155.txt  140.txt  122.txt  159.txt  136.txt  \n",
       "id                                                  \n",
       "6.txt      0.0      0.0      1.0      0.0      0.0  \n",
       "\n",
       "[1 rows x 35 columns]"
      ]
     },
     "execution_count": 6,
     "metadata": {},
     "output_type": "execute_result"
    }
   ],
   "source": [
    "path_to_oracle = \"../Originals/TracedMatrices/UC_CC.txt\"\n",
    "level_1_to_level_3 = create_trace_list(path_to_oracle)\n",
    "print(\"shape: \", level_1_to_level_3.shape)\n",
    "level_1_to_level_3.head(1)"
   ]
  },
  {
   "cell_type": "markdown",
   "metadata": {},
   "source": [
    "# Export"
   ]
  },
  {
   "cell_type": "code",
   "execution_count": 7,
   "metadata": {},
   "outputs": [
    {
     "name": "stdout",
     "output_type": "stream",
     "text": [
      "Done!\n"
     ]
    }
   ],
   "source": [
    "level_1_to_level_2.to_csv(\"../../Oracles/DataFrames/Level_1_to_Level_2.csv\")\n",
    "level_2_to_level_3.to_csv(\"../../Oracles/DataFrames/Level_2_to_Level_3.csv\")\n",
    "level_1_to_level_3.to_csv(\"../../Oracles/DataFrames/Level_1_to_Level_3.csv\")\n",
    "level_1_to_level_3.to_csv(\"../../Oracles/Relations.csv\")\n",
    "print(\"Done!\")"
   ]
  },
  {
   "cell_type": "code",
   "execution_count": null,
   "metadata": {},
   "outputs": [],
   "source": []
  }
 ],
 "metadata": {
  "kernelspec": {
   "display_name": "Python 3",
   "language": "python",
   "name": "python3"
  },
  "language_info": {
   "codemirror_mode": {
    "name": "ipython",
    "version": 3
   },
   "file_extension": ".py",
   "mimetype": "text/x-python",
   "name": "python",
   "nbconvert_exporter": "python",
   "pygments_lexer": "ipython3",
   "version": "3.7.6"
  }
 },
 "nbformat": 4,
 "nbformat_minor": 2
}
