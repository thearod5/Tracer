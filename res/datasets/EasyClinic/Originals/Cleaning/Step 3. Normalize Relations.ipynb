{
 "cells": [
  {
   "cell_type": "code",
   "execution_count": 1,
   "metadata": {},
   "outputs": [],
   "source": [
    "import pandas as pd\n",
    "import numpy as np\n",
    "import sys"
   ]
  },
  {
   "cell_type": "markdown",
   "metadata": {},
   "source": [
    "### Import Oracle Creator"
   ]
  },
  {
   "cell_type": "code",
   "execution_count": 2,
   "metadata": {},
   "outputs": [],
   "source": [
    "sys.path.append(\"../../../../Tracer/src\")\n",
    "from PreProcessing.Traces.TraceCreator import create_trace_matrix_from_trace_list\n",
    "\n",
    "def create_trace_list(path_to_oracle):\n",
    "    oracle = open(path_to_oracle).read().split(\"\\n\")\n",
    "    trace_list = []\n",
    "    for trace_item in oracle:\n",
    "        if len(trace_item) > 0:\n",
    "            source, targets = trace_item.split(\":\")\n",
    "            for target in targets.split(\" \"):\n",
    "                if len(target) != 0:\n",
    "                    trace_list.append(\" \".join([source, target]))\n",
    "                else:\n",
    "                    trace_list.append(\" \".join([source, \"\"]))\n",
    "    return create_trace_matrix_from_trace_list(trace_list)"
   ]
  },
  {
   "cell_type": "markdown",
   "metadata": {},
   "source": [
    "# Original Oracles"
   ]
  },
  {
   "cell_type": "code",
   "execution_count": 3,
   "metadata": {},
   "outputs": [],
   "source": [
    "r2d = pd.read_csv(\"../../Oracles/DataFrames/Level_1_to_Level_2.csv\").set_index(\"id\")\n",
    "d2c = pd.read_csv(\"../../Oracles/DataFrames/Level_2_to_Level_3.csv\").set_index(\"id\")\n",
    "r2c = pd.read_csv(\"../../Oracles/DataFrames/Level_1_to_Level_3.csv\").set_index(\"id\")"
   ]
  },
  {
   "cell_type": "code",
   "execution_count": 4,
   "metadata": {},
   "outputs": [
    {
     "data": {
      "text/html": [
       "<div>\n",
       "<style scoped>\n",
       "    .dataframe tbody tr th:only-of-type {\n",
       "        vertical-align: middle;\n",
       "    }\n",
       "\n",
       "    .dataframe tbody tr th {\n",
       "        vertical-align: top;\n",
       "    }\n",
       "\n",
       "    .dataframe thead th {\n",
       "        text-align: right;\n",
       "    }\n",
       "</style>\n",
       "<table border=\"1\" class=\"dataframe\">\n",
       "  <thead>\n",
       "    <tr style=\"text-align: right;\">\n",
       "      <th></th>\n",
       "      <th>141.txt</th>\n",
       "      <th>149.txt</th>\n",
       "      <th>154.txt</th>\n",
       "      <th>152.txt</th>\n",
       "      <th>151.txt</th>\n",
       "      <th>134.txt</th>\n",
       "      <th>136.txt</th>\n",
       "      <th>124.txt</th>\n",
       "      <th>118.txt</th>\n",
       "      <th>147.txt</th>\n",
       "      <th>...</th>\n",
       "      <th>117.txt</th>\n",
       "      <th>145.txt</th>\n",
       "      <th>123.txt</th>\n",
       "      <th>148.txt</th>\n",
       "      <th>120.txt</th>\n",
       "      <th>158.txt</th>\n",
       "      <th>122.txt</th>\n",
       "      <th>132.txt</th>\n",
       "      <th>114.txt</th>\n",
       "      <th>155.txt</th>\n",
       "    </tr>\n",
       "    <tr>\n",
       "      <th>id</th>\n",
       "      <th></th>\n",
       "      <th></th>\n",
       "      <th></th>\n",
       "      <th></th>\n",
       "      <th></th>\n",
       "      <th></th>\n",
       "      <th></th>\n",
       "      <th></th>\n",
       "      <th></th>\n",
       "      <th></th>\n",
       "      <th></th>\n",
       "      <th></th>\n",
       "      <th></th>\n",
       "      <th></th>\n",
       "      <th></th>\n",
       "      <th></th>\n",
       "      <th></th>\n",
       "      <th></th>\n",
       "      <th></th>\n",
       "      <th></th>\n",
       "      <th></th>\n",
       "    </tr>\n",
       "  </thead>\n",
       "  <tbody>\n",
       "    <tr>\n",
       "      <th>41.txt</th>\n",
       "      <td>0.0</td>\n",
       "      <td>0.0</td>\n",
       "      <td>1.0</td>\n",
       "      <td>0.0</td>\n",
       "      <td>0.0</td>\n",
       "      <td>1.0</td>\n",
       "      <td>1.0</td>\n",
       "      <td>0.0</td>\n",
       "      <td>0.0</td>\n",
       "      <td>0.0</td>\n",
       "      <td>...</td>\n",
       "      <td>0.0</td>\n",
       "      <td>1.0</td>\n",
       "      <td>0.0</td>\n",
       "      <td>1.0</td>\n",
       "      <td>0.0</td>\n",
       "      <td>0.0</td>\n",
       "      <td>0.0</td>\n",
       "      <td>0.0</td>\n",
       "      <td>0.0</td>\n",
       "      <td>0.0</td>\n",
       "    </tr>\n",
       "    <tr>\n",
       "      <th>46.txt</th>\n",
       "      <td>0.0</td>\n",
       "      <td>0.0</td>\n",
       "      <td>1.0</td>\n",
       "      <td>0.0</td>\n",
       "      <td>0.0</td>\n",
       "      <td>0.0</td>\n",
       "      <td>0.0</td>\n",
       "      <td>0.0</td>\n",
       "      <td>0.0</td>\n",
       "      <td>0.0</td>\n",
       "      <td>...</td>\n",
       "      <td>0.0</td>\n",
       "      <td>1.0</td>\n",
       "      <td>0.0</td>\n",
       "      <td>0.0</td>\n",
       "      <td>0.0</td>\n",
       "      <td>0.0</td>\n",
       "      <td>0.0</td>\n",
       "      <td>0.0</td>\n",
       "      <td>1.0</td>\n",
       "      <td>0.0</td>\n",
       "    </tr>\n",
       "    <tr>\n",
       "      <th>48.txt</th>\n",
       "      <td>0.0</td>\n",
       "      <td>0.0</td>\n",
       "      <td>0.0</td>\n",
       "      <td>0.0</td>\n",
       "      <td>0.0</td>\n",
       "      <td>0.0</td>\n",
       "      <td>0.0</td>\n",
       "      <td>0.0</td>\n",
       "      <td>0.0</td>\n",
       "      <td>0.0</td>\n",
       "      <td>...</td>\n",
       "      <td>1.0</td>\n",
       "      <td>0.0</td>\n",
       "      <td>0.0</td>\n",
       "      <td>1.0</td>\n",
       "      <td>0.0</td>\n",
       "      <td>0.0</td>\n",
       "      <td>0.0</td>\n",
       "      <td>0.0</td>\n",
       "      <td>0.0</td>\n",
       "      <td>0.0</td>\n",
       "    </tr>\n",
       "    <tr>\n",
       "      <th>33.txt</th>\n",
       "      <td>0.0</td>\n",
       "      <td>0.0</td>\n",
       "      <td>0.0</td>\n",
       "      <td>0.0</td>\n",
       "      <td>0.0</td>\n",
       "      <td>0.0</td>\n",
       "      <td>0.0</td>\n",
       "      <td>0.0</td>\n",
       "      <td>0.0</td>\n",
       "      <td>1.0</td>\n",
       "      <td>...</td>\n",
       "      <td>0.0</td>\n",
       "      <td>0.0</td>\n",
       "      <td>1.0</td>\n",
       "      <td>0.0</td>\n",
       "      <td>0.0</td>\n",
       "      <td>1.0</td>\n",
       "      <td>1.0</td>\n",
       "      <td>0.0</td>\n",
       "      <td>0.0</td>\n",
       "      <td>0.0</td>\n",
       "    </tr>\n",
       "    <tr>\n",
       "      <th>39.txt</th>\n",
       "      <td>0.0</td>\n",
       "      <td>0.0</td>\n",
       "      <td>1.0</td>\n",
       "      <td>0.0</td>\n",
       "      <td>0.0</td>\n",
       "      <td>0.0</td>\n",
       "      <td>0.0</td>\n",
       "      <td>0.0</td>\n",
       "      <td>0.0</td>\n",
       "      <td>0.0</td>\n",
       "      <td>...</td>\n",
       "      <td>0.0</td>\n",
       "      <td>1.0</td>\n",
       "      <td>0.0</td>\n",
       "      <td>0.0</td>\n",
       "      <td>0.0</td>\n",
       "      <td>0.0</td>\n",
       "      <td>0.0</td>\n",
       "      <td>1.0</td>\n",
       "      <td>0.0</td>\n",
       "      <td>0.0</td>\n",
       "    </tr>\n",
       "  </tbody>\n",
       "</table>\n",
       "<p>5 rows × 30 columns</p>\n",
       "</div>"
      ],
      "text/plain": [
       "        141.txt  149.txt  154.txt  152.txt  151.txt  134.txt  136.txt  \\\n",
       "id                                                                      \n",
       "41.txt      0.0      0.0      1.0      0.0      0.0      1.0      1.0   \n",
       "46.txt      0.0      0.0      1.0      0.0      0.0      0.0      0.0   \n",
       "48.txt      0.0      0.0      0.0      0.0      0.0      0.0      0.0   \n",
       "33.txt      0.0      0.0      0.0      0.0      0.0      0.0      0.0   \n",
       "39.txt      0.0      0.0      1.0      0.0      0.0      0.0      0.0   \n",
       "\n",
       "        124.txt  118.txt  147.txt  ...  117.txt  145.txt  123.txt  148.txt  \\\n",
       "id                                 ...                                       \n",
       "41.txt      0.0      0.0      0.0  ...      0.0      1.0      0.0      1.0   \n",
       "46.txt      0.0      0.0      0.0  ...      0.0      1.0      0.0      0.0   \n",
       "48.txt      0.0      0.0      0.0  ...      1.0      0.0      0.0      1.0   \n",
       "33.txt      0.0      0.0      1.0  ...      0.0      0.0      1.0      0.0   \n",
       "39.txt      0.0      0.0      0.0  ...      0.0      1.0      0.0      0.0   \n",
       "\n",
       "        120.txt  158.txt  122.txt  132.txt  114.txt  155.txt  \n",
       "id                                                            \n",
       "41.txt      0.0      0.0      0.0      0.0      0.0      0.0  \n",
       "46.txt      0.0      0.0      0.0      0.0      1.0      0.0  \n",
       "48.txt      0.0      0.0      0.0      0.0      0.0      0.0  \n",
       "33.txt      0.0      1.0      1.0      0.0      0.0      0.0  \n",
       "39.txt      0.0      0.0      0.0      1.0      0.0      0.0  \n",
       "\n",
       "[5 rows x 30 columns]"
      ]
     },
     "execution_count": 4,
     "metadata": {},
     "output_type": "execute_result"
    }
   ],
   "source": [
    "d2c.head()"
   ]
  },
  {
   "cell_type": "markdown",
   "metadata": {},
   "source": [
    "# Fill missing R-D"
   ]
  },
  {
   "cell_type": "code",
   "execution_count": 5,
   "metadata": {},
   "outputs": [],
   "source": [
    "c_intersection = set(d2c.columns) & set(r2c.columns)"
   ]
  },
  {
   "cell_type": "code",
   "execution_count": 6,
   "metadata": {},
   "outputs": [
    {
     "name": "stdout",
     "output_type": "stream",
     "text": [
      "Number of expected associated:  270\n"
     ]
    }
   ],
   "source": [
    "expected_traces = []\n",
    "for c_id in c_intersection:\n",
    "    designs_associated = list(d2c[c_id][d2c[c_id] == 1].index)\n",
    "    requirements_associated = list(r2c[c_id][r2c[c_id] == 1].index)\n",
    "    for d_id in designs_associated:\n",
    "        for r_id in requirements_associated:\n",
    "            expected_traces.append((r_id, d_id))\n",
    "print(\"Number of expected associated: \", len(expected_traces))"
   ]
  },
  {
   "cell_type": "code",
   "execution_count": 7,
   "metadata": {},
   "outputs": [
    {
     "name": "stdout",
     "output_type": "stream",
     "text": [
      "Missed Traced:  104\n"
     ]
    }
   ],
   "source": [
    "missed_traced = 0\n",
    "for e_t in expected_traces:\n",
    "    r_id = e_t[0]\n",
    "    d_id = e_t[1]\n",
    "    if d_id in d2c.index and c_id in d2c.columns and r2d.loc[r_id][d_id] == 0:\n",
    "        missed_traced = missed_traced + 1\n",
    "        r2d.loc[r_id][d_id] = 1\n",
    "print(\"Missed Traced: \", missed_traced)"
   ]
  },
  {
   "cell_type": "markdown",
   "metadata": {},
   "source": [
    "# Fill Missing D->C"
   ]
  },
  {
   "cell_type": "code",
   "execution_count": 8,
   "metadata": {},
   "outputs": [],
   "source": [
    "r_intersection = set(r2d.index) & set(r2c.index)"
   ]
  },
  {
   "cell_type": "code",
   "execution_count": 9,
   "metadata": {},
   "outputs": [
    {
     "data": {
      "text/plain": [
       "['147.txt', '123.txt', '158.txt', '122.txt']"
      ]
     },
     "execution_count": 9,
     "metadata": {},
     "output_type": "execute_result"
    }
   ],
   "source": [
    "list(r2c.loc[r_id][r2c.loc[r_id]==1].index)"
   ]
  },
  {
   "cell_type": "code",
   "execution_count": 10,
   "metadata": {},
   "outputs": [
    {
     "name": "stdout",
     "output_type": "stream",
     "text": [
      "Number of expected associated:  414\n"
     ]
    }
   ],
   "source": [
    "expected_traces = []\n",
    "for r_id in r_intersection:\n",
    "    designs_associated = list(r2d.loc[r_id][r2d.loc[r_id] == 1].index)\n",
    "    classes_associated = list(r2c.loc[r_id][r2c.loc[r_id]==1].index)\n",
    "    for d_id in designs_associated:\n",
    "        for c_id in classes_associated:\n",
    "            expected_traces.append((d_id, c_id))\n",
    "print(\"Number of expected associated: \", len(expected_traces))"
   ]
  },
  {
   "cell_type": "code",
   "execution_count": 11,
   "metadata": {},
   "outputs": [
    {
     "name": "stdout",
     "output_type": "stream",
     "text": [
      "Missed Traced:  55\n"
     ]
    }
   ],
   "source": [
    "missed_traced = 0\n",
    "for e_t in expected_traces:\n",
    "    d_id = e_t[0]\n",
    "    c_id = e_t[1]\n",
    "    if d_id in d2c.index and c_id in d2c.columns and d2c.loc[d_id][c_id] == 0:\n",
    "        missed_traced = missed_traced + 1\n",
    "        d2c.loc[d_id][c_id] = 1\n",
    "print(\"Missed Traced: \", missed_traced)"
   ]
  },
  {
   "cell_type": "markdown",
   "metadata": {},
   "source": [
    "# Fill Missing R->C"
   ]
  },
  {
   "cell_type": "code",
   "execution_count": 12,
   "metadata": {},
   "outputs": [
    {
     "name": "stdout",
     "output_type": "stream",
     "text": [
      "Expected r2c associations:  874\n"
     ]
    }
   ],
   "source": [
    "expected_full_traces = []\n",
    "for r_id in r2d.index:\n",
    "    associated_designs = list(r2d.loc[r_id][r2d.loc[r_id]==1].index)\n",
    "    for d_id in associated_designs:\n",
    "        if d_id in d2c.index:\n",
    "            classes_associated = list(d2c.loc[d_id][d2c.loc[d_id]==1].index)\n",
    "            for c_id in classes_associated:\n",
    "                expected_full_traces.append((r_id, c_id))\n",
    "print(\"Expected r2c associations: \", len(expected_full_traces))"
   ]
  },
  {
   "cell_type": "code",
   "execution_count": 13,
   "metadata": {},
   "outputs": [
    {
     "name": "stdout",
     "output_type": "stream",
     "text": [
      "Missed Traced: "
     ]
    },
    {
     "name": "stdout",
     "output_type": "stream",
     "text": [
      " 166\n"
     ]
    }
   ],
   "source": [
    "missed_traced = 0\n",
    "for e_t in expected_full_traces:\n",
    "    r_id = e_t[0]\n",
    "    c_id = e_t[1]\n",
    "    if r_id in r2c.index and c_id in r2c.columns and r2c.loc[r_id][c_id] == 0:\n",
    "        missed_traced = missed_traced + 1\n",
    "        r2c.loc[r_id][c_id] = 1\n",
    "print(\"Missed Traced: \", missed_traced)"
   ]
  },
  {
   "cell_type": "markdown",
   "metadata": {},
   "source": [
    "# Export"
   ]
  },
  {
   "cell_type": "code",
   "execution_count": 14,
   "metadata": {},
   "outputs": [
    {
     "name": "stdout",
     "output_type": "stream",
     "text": [
      "Done!\n"
     ]
    }
   ],
   "source": [
    "r2d.to_csv(\"../../Oracles/DataFrames/Level_1_to_Level_2.csv\")\n",
    "d2c.to_csv(\"../../Oracles/DataFrames/Level_2_to_Level_3.csv\")\n",
    "r2c.to_csv(\"../../Oracles/DataFrames/Level_1_to_Level_3.csv\")\n",
    "r2c.to_csv(\"../../Oracles/Relations.csv\")\n",
    "print(\"Done!\")"
   ]
  },
  {
   "cell_type": "code",
   "execution_count": 15,
   "metadata": {},
   "outputs": [
    {
     "data": {
      "text/plain": [
       "259.0"
      ]
     },
     "execution_count": 15,
     "metadata": {},
     "output_type": "execute_result"
    }
   ],
   "source": [
    "r2c.sum().sum()"
   ]
  },
  {
   "cell_type": "code",
   "execution_count": 16,
   "metadata": {},
   "outputs": [
    {
     "data": {
      "text/plain": [
       "1050"
      ]
     },
     "execution_count": 16,
     "metadata": {},
     "output_type": "execute_result"
    }
   ],
   "source": [
    "r2c.shape[0] * r2c.shape[1]"
   ]
  },
  {
   "cell_type": "code",
   "execution_count": null,
   "metadata": {},
   "outputs": [],
   "source": []
  }
 ],
 "metadata": {
  "kernelspec": {
   "display_name": "Python 3",
   "language": "python",
   "name": "python3"
  },
  "language_info": {
   "codemirror_mode": {
    "name": "ipython",
    "version": 3
   },
   "file_extension": ".py",
   "mimetype": "text/x-python",
   "name": "python",
   "nbconvert_exporter": "python",
   "pygments_lexer": "ipython3",
   "version": "3.7.3"
  }
 },
 "nbformat": 4,
 "nbformat_minor": 2
}
